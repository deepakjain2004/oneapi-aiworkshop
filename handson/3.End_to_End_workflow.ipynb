{
 "cells": [
  {
   "cell_type": "markdown",
   "metadata": {},
   "source": [
    "# End-to-end workflow with Modin and Intel® Extension for Scikit-learn*"
   ]
  },
  {
   "cell_type": "markdown",
   "metadata": {
    "pycharm": {
     "name": "#%% md\n"
    }
   },
   "source": [
    "In this example we will be running an end-to-end machine learning workload with US census data from 1970 to 2010.<br>\n",
    "Optimized run uses **Modin with Ray** as backend compute engine for ETL(Extract Transform Load), and uses **Random Forest Regression algorithm from Intel scikit-learn-extension library** to train and predict the co-relation between US total income and education levels.<br>\n",
    "You can use the default kernel <mark>\"Python 3 (Intel® oneAPI 2023.0)\"</mark> for this notebook."
   ]
  },
  {
   "cell_type": "markdown",
   "metadata": {
    "pycharm": {
     "name": "#%% md\n"
    }
   },
   "source": [
    "Let's start by downloading census data to your local disk."
   ]
  },
  {
   "cell_type": "code",
   "execution_count": null,
   "metadata": {},
   "outputs": [],
   "source": [
    "!wget https://storage.googleapis.com/intel-optimized-tensorflow/datasets/ipums_education2income_1970-2010.csv.gz\n",
    "!gunzip ipums_education2income_1970-2010.csv.gz\n",
    "!head -1000000 ipums_education2income_1970-2010.csv > ipums_education2income_1970-2010_subset.csv"
   ]
  },
  {
   "cell_type": "markdown",
   "metadata": {},
   "source": [
    "### Install the required packages (optional)"
   ]
  },
  {
   "cell_type": "code",
   "execution_count": null,
   "metadata": {},
   "outputs": [],
   "source": [
    "%pip install --user --upgrade modin[ray]\n",
    "%pip install --user --upgrade scikit-learn\n",
    "%pip install --user --upgrade scikit-learn-intelex==2023.0.0"
   ]
  },
  {
   "cell_type": "markdown",
   "metadata": {},
   "source": [
    "##### Reboot kernel to load installed packages"
   ]
  },
  {
   "cell_type": "code",
   "execution_count": null,
   "metadata": {},
   "outputs": [],
   "source": [
    "import os\n",
    "os._exit(00)"
   ]
  },
  {
   "cell_type": "markdown",
   "metadata": {},
   "source": [
    "Import basic python modules and disable warnings to avoid output cluttering"
   ]
  },
  {
   "cell_type": "code",
   "execution_count": null,
   "metadata": {},
   "outputs": [],
   "source": [
    "import os\n",
    "import numpy as np\n",
    "import warnings\n",
    "\n",
    "warnings.filterwarnings(\"ignore\")"
   ]
  },
  {
   "cell_type": "markdown",
   "metadata": {},
   "source": [
    "Below flag can switch ON/OFF the Intel optimizations in this workflow"
   ]
  },
  {
   "cell_type": "code",
   "execution_count": null,
   "metadata": {},
   "outputs": [],
   "source": [
    "enable_intel_optimizations = True"
   ]
  },
  {
   "cell_type": "code",
   "execution_count": null,
   "metadata": {},
   "outputs": [],
   "source": [
    "if enable_intel_optimizations:\n",
    "    print(\"Running optimized\")\n",
    "    import ray\n",
    "    ray.shutdown()\n",
    "    ray.init(num_cpus=4,_memory=16000 * 1024 * 1024,object_store_memory=500 * 1024 * 1024, _driver_object_store_memory=500 * 1024 * 1024)\n",
    "    import modin.pandas as pd\n",
    "    from sklearnex import patch_sklearn\n",
    "    patch_sklearn()\n",
    "else:\n",
    "    print(\"Running stock\")\n",
    "    import pandas as pd"
   ]
  },
  {
   "cell_type": "code",
   "execution_count": null,
   "metadata": {
    "pycharm": {
     "name": "#%%\n"
    }
   },
   "outputs": [],
   "source": [
    "from sklearn import config_context\n",
    "from sklearn.metrics import mean_squared_error, r2_score\n",
    "from sklearn.model_selection import train_test_split\n",
    "from sklearn.ensemble import RandomForestRegressor\n",
    "import time"
   ]
  },
  {
   "cell_type": "markdown",
   "metadata": {
    "pycharm": {
     "name": "#%% md\n"
    }
   },
   "source": [
    "Read and load the data into a dataframe from the downloaded archive file"
   ]
  },
  {
   "cell_type": "code",
   "execution_count": null,
   "metadata": {
    "pycharm": {
     "name": "#%%\n"
    }
   },
   "outputs": [],
   "source": [
    "time_start = time.time()\n",
    "df = pd.read_csv('ipums_education2income_1970-2010_subset.csv')\n",
    "csv_load_time = round(time.time()-time_start)"
   ]
  },
  {
   "cell_type": "code",
   "execution_count": null,
   "metadata": {},
   "outputs": [],
   "source": [
    "df.head()"
   ]
  },
  {
   "cell_type": "markdown",
   "metadata": {
    "pycharm": {
     "name": "#%% md\n"
    }
   },
   "source": [
    "Run ETL (Extract Transform Load) operations to prepare and transform the ingested dataset into a form that can be readily consumed by the Random Forest regression algorithm.<br>\n",
    "Keep columns that are relevant, clean up the samples with invalid income, education and normalize the income to account for yearly inflation"
   ]
  },
  {
   "cell_type": "code",
   "execution_count": null,
   "metadata": {
    "pycharm": {
     "name": "#%%\n"
    }
   },
   "outputs": [],
   "source": [
    "time_start = time.time()\n",
    "# clean up features\n",
    "keep_cols = [\n",
    "    \"YEAR\", \"DATANUM\", \"SERIAL\", \"CBSERIAL\", \"HHWT\",\n",
    "    \"CPI99\", \"GQ\", \"PERNUM\", \"SEX\", \"AGE\",\n",
    "    \"INCTOT\", \"EDUC\", \"EDUCD\", \"EDUC_HEAD\", \"EDUC_POP\",\n",
    "    \"EDUC_MOM\", \"EDUCD_MOM2\", \"EDUCD_POP2\", \"INCTOT_MOM\", \"INCTOT_POP\",\n",
    "    \"INCTOT_MOM2\", \"INCTOT_POP2\", \"INCTOT_HEAD\", \"SEX_HEAD\",\n",
    "]\n",
    "df = df[keep_cols]\n",
    "\n",
    "# clean up samples with invalid income, education, etc.\n",
    "df = df[df[\"INCTOT\"] != 9999999]\n",
    "df = df[df[\"EDUC\"] != -1]\n",
    "df = df[df[\"EDUCD\"] != -1]\n",
    "\n",
    "# normalize income for inflation\n",
    "df[\"INCTOT\"] = df[\"INCTOT\"] * df[\"CPI99\"]\n",
    "\n",
    "for column in keep_cols:\n",
    "    df[column] = df[column].fillna(-1)\n",
    "    df[column] = df[column].astype(\"float64\")\n",
    "\n",
    "y = df[\"EDUC\"]\n",
    "X = df.drop(columns=[\"EDUC\", \"CPI99\"])\n",
    "etl_time = round(time.time()-time_start)"
   ]
  },
  {
   "cell_type": "markdown",
   "metadata": {},
   "source": [
    "Train the model and run prediction.<br> Loop 50 times to remove any bias in splitting the dataset into train & test set.<br> This is done in order to reduce chance of over-fitting from selecting a train set that fits the model too well to the test set"
   ]
  },
  {
   "cell_type": "code",
   "execution_count": null,
   "metadata": {
    "pycharm": {
     "name": "#%%\n"
    }
   },
   "outputs": [],
   "source": [
    "time_start = time.time()\n",
    "params = {\n",
    "    'n_estimators': 50,\n",
    "    'random_state': 44,\n",
    "    'n_jobs': -1\n",
    "}\n",
    "\n",
    "# ML - training and inference\n",
    "clf = RandomForestRegressor(**params)\n",
    "mse_values, cod_values = [], []\n",
    "N_RUNS = 50\n",
    "TRAIN_SIZE = 0.9\n",
    "random_state = 777\n",
    "\n",
    "X = np.ascontiguousarray(X, dtype=np.float64)\n",
    "y = np.ascontiguousarray(y, dtype=np.float64)\n",
    "\n",
    "# cross validation\n",
    "for i in range(N_RUNS):\n",
    "    X_train, X_test, y_train, y_test = train_test_split(X, y, train_size=TRAIN_SIZE,\n",
    "                                                        random_state=random_state)\n",
    "    random_state += 777\n",
    "\n",
    "    # training\n",
    "    with config_context(assume_finite=True):\n",
    "        model = clf.fit(X_train, y_train)\n",
    "\n",
    "    # inference\n",
    "    y_pred = model.predict(X_test)\n",
    "\n",
    "    mse_values.append(mean_squared_error(y_test, y_pred))\n",
    "    cod_values.append(r2_score(y_test, y_pred))\n",
    "\n",
    "model_build_time = round(time.time()-time_start)"
   ]
  },
  {
   "cell_type": "markdown",
   "metadata": {},
   "source": [
    "Check the regression results by calculating the accuracy of the prediction using mean squared error and r square score"
   ]
  },
  {
   "cell_type": "code",
   "execution_count": null,
   "metadata": {
    "pycharm": {
     "name": "#%%\n"
    }
   },
   "outputs": [],
   "source": [
    "mean_mse = sum(mse_values)/len(mse_values)\n",
    "mean_cod = sum(cod_values)/len(cod_values)\n",
    "mse_dev = pow(sum([(mse_value - mean_mse)**2 for mse_value in mse_values])/(len(mse_values) - 1), 0.5)\n",
    "cod_dev = pow(sum([(cod_value - mean_cod)**2 for cod_value in cod_values])/(len(cod_values) - 1), 0.5)\n",
    "print(\"mean MSE ± deviation: {:.9f} ± {:.9f}\".format(mean_mse, mse_dev))\n",
    "print(\"mean COD ± deviation: {:.9f} ± {:.9f}\".format(mean_cod, cod_dev))"
   ]
  },
  {
   "cell_type": "markdown",
   "metadata": {},
   "source": [
    "#### Time Split-up"
   ]
  },
  {
   "cell_type": "code",
   "execution_count": null,
   "metadata": {},
   "outputs": [],
   "source": [
    "print(f\"Data load time : {csv_load_time} seconds\")\n",
    "print(f\"ETL time : {etl_time} seconds\")\n",
    "print(f\"Model build time : {model_build_time} seconds\")"
   ]
  },
  {
   "cell_type": "code",
   "execution_count": null,
   "metadata": {},
   "outputs": [],
   "source": [
    "if enable_intel_optimizations:\n",
    "    ray.shutdown()"
   ]
  },
  {
   "cell_type": "markdown",
   "metadata": {},
   "source": [
    "<br>"
   ]
  },
  {
   "cell_type": "markdown",
   "metadata": {},
   "source": [
    "### Legal Notices and Disclaimers"
   ]
  },
  {
   "cell_type": "markdown",
   "metadata": {},
   "source": [
    "Intel technologies’ features and benefits depend on system configuration and may require enabled hardware, software or service activation. Performance varies depending on system configuration. No computer system can be absolutely secure. Check with your system manufacturer or retailer or learn more at www.intel.com.<br>\n",
    "Cost reduction scenarios described including recommendations are intended as examples of how a given Intel-based product, in the specified circumstances and configurations, may affect future costs and provide cost savings. Circumstances will vary. Intel does not guarantee any costs or cost reduction.<br>\n",
    "This document contains information on products, services and/or processes in development. All information provided here is subject to change without notice. Contact your Intel representative to obtain the latest forecast, schedule, specifications and roadmaps. <br>\n",
    "Any forecasts of goods and services needed for Intel’s operations are provided for discussion purposes only. Intel will have no liability to make any purchase in connection with forecasts published in this document.<br>\n",
    "Intel technologies may require enabled hardware, software or service activation.<br>\n",
    "Software and workloads used in performance tests may have been optimized for performance only on Intel microprocessors.  <br>\n",
    "Performance tests, are measured using specific computer systems, components, software, operations and functions.  Any change to any of those factors may cause the results to vary.  You should consult other information and performance tests to assist you in fully evaluating your contemplated purchases, including the performance of that product when combined with other products.   For more complete information visit www.intel.com/benchmarks.<br>\n",
    "\n",
    "|* Other names and brands may be claimed as the property of others. <br>\n",
    "\n",
    "Your costs and results may vary. <br>\n",
    "© Intel Corporation.  Intel, the Intel logo, and other Intel marks are trademarks of Intel Corporation or its subsidiaries.  Other names and brands may be claimed as the property of others.<br>\n",
    "Copyright 2023 Intel Corporation. "
   ]
  },
  {
   "cell_type": "code",
   "execution_count": null,
   "metadata": {},
   "outputs": [],
   "source": []
  }
 ],
 "metadata": {
  "kernelspec": {
   "display_name": "Python 3 (Intel® oneAPI 2023.0)",
   "language": "python",
   "name": "c009-intel_distribution_of_python_3_oneapi-beta05-python"
  },
  "language_info": {
   "codemirror_mode": {
    "name": "ipython",
    "version": 3
   },
   "file_extension": ".py",
   "mimetype": "text/x-python",
   "name": "python",
   "nbconvert_exporter": "python",
   "pygments_lexer": "ipython3",
   "version": "3.9.15"
  }
 },
 "nbformat": 4,
 "nbformat_minor": 4
}
