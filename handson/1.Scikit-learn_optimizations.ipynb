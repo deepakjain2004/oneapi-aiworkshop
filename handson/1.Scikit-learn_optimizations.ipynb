{
 "cells": [
  {
   "cell_type": "markdown",
   "id": "b965b9ed",
   "metadata": {},
   "source": [
    "# <center> Intel Scikit-learn* Optimizations Demo </center>"
   ]
  },
  {
   "cell_type": "markdown",
   "id": "28c23482-ca13-4996-9f19-86a3a0c182ca",
   "metadata": {},
   "source": [
    "###  Intel Scikit-learn* Optimizations "
   ]
  },
  {
   "cell_type": "markdown",
   "id": "ef225350-d68c-4eed-99ce-9807790d1c24",
   "metadata": {},
   "source": [
    "The following section demonstrates performance optimizations delivered by Intel Extension for Scikit-learn*. <br>\n",
    "Refer https://github.com/intel/scikit-learn-intelex for more details.<br>\n",
    "You can use the default kernel <mark>\"Python 3 (Intel® oneAPI 2023.0)\"</mark> for this notebook."
   ]
  },
  {
   "cell_type": "markdown",
   "id": "7b88b03d-8761-4c86-8c3e-5329fb44bfdf",
   "metadata": {},
   "source": [
    "##### Installing required packages"
   ]
  },
  {
   "cell_type": "code",
   "execution_count": null,
   "id": "0fdb2680-b860-4ea3-8591-1a0785c03a29",
   "metadata": {
    "tags": []
   },
   "outputs": [],
   "source": [
    "%pip install --user --upgrade scikit-learn\n",
    "%pip install --user --upgrade scikit-learn-intelex==2023.0.0"
   ]
  },
  {
   "cell_type": "markdown",
   "id": "9045a4da-3ccf-41ea-b758-daa408129876",
   "metadata": {},
   "source": [
    "##### Reboot the Kernel by running below code cell inorder to load newly installed modules"
   ]
  },
  {
   "cell_type": "code",
   "execution_count": null,
   "id": "37b8e607-c565-432d-bcdb-00b8108cc674",
   "metadata": {},
   "outputs": [],
   "source": [
    "import os\n",
    "os._exit(00)"
   ]
  },
  {
   "cell_type": "markdown",
   "id": "0766bc45-4891-4adb-bd2a-a32127d6c06d",
   "metadata": {},
   "source": [
    "Accept the Kernel reload popup and continue with the following cells."
   ]
  },
  {
   "cell_type": "markdown",
   "id": "5795b367-3838-491f-90b8-8cf80328d169",
   "metadata": {},
   "source": [
    "Importing necessary packages"
   ]
  },
  {
   "cell_type": "code",
   "execution_count": null,
   "id": "210e76ad-393e-4f29-81d4-1d70a33febd5",
   "metadata": {},
   "outputs": [],
   "source": [
    "from timeit import default_timer as timer\n",
    "from sklearn import metrics\n",
    "from sklearn.model_selection import train_test_split\n",
    "from sklearn.datasets import fetch_openml\n",
    "from IPython.display import HTML\n",
    "import warnings\n",
    "warnings.filterwarnings('ignore')"
   ]
  },
  {
   "cell_type": "markdown",
   "id": "5568540e-0972-4604-800e-61ea167cd3f9",
   "metadata": {},
   "source": [
    "Download and prepare dataset for classification using Support Vector Classifier. Refer [link](https://www.openml.org/search?type=data&status=active&id=1430) for more info on Adult a9a dataset"
   ]
  },
  {
   "cell_type": "code",
   "execution_count": null,
   "id": "b75b9d6e-999a-41a8-ba4a-0daaa5660c88",
   "metadata": {},
   "outputs": [],
   "source": [
    "# Download dataset\n",
    "x, y = fetch_openml(name='a9a', return_X_y=True)\n",
    "# Split dataset into Train and Test\n",
    "x_train, x_test, y_train, y_test = train_test_split(x, y, test_size=0.2, random_state=42)\n",
    "x_train.shape, x_test.shape, y_train.shape, y_test.shape"
   ]
  },
  {
   "cell_type": "markdown",
   "id": "ef182fe5-fd87-49f8-b212-43c8c6504c3a",
   "metadata": {},
   "source": [
    "##### Patch Scikit-learn* with Intel Extensions for Scikit-learn*"
   ]
  },
  {
   "cell_type": "code",
   "execution_count": null,
   "id": "05a5b765-18ba-42fa-bfc2-32de7bc0e5fd",
   "metadata": {},
   "outputs": [],
   "source": [
    "from sklearnex import patch_sklearn\n",
    "patch_sklearn()"
   ]
  },
  {
   "cell_type": "markdown",
   "id": "97c60161-0e0e-40c9-b8c4-46160a81f3c5",
   "metadata": {},
   "source": [
    "Fitting Adult dataset on Support Vector Classifier"
   ]
  },
  {
   "cell_type": "code",
   "execution_count": null,
   "id": "28ae82fc-facc-4951-bf79-a1724112081f",
   "metadata": {},
   "outputs": [],
   "source": [
    "from sklearn.svm import SVC\n",
    "\n",
    "params = {\n",
    "    'C': 100.0,\n",
    "    'kernel': 'rbf',\n",
    "    'gamma': 'scale',\n",
    "    'verbose' : True,\n",
    "}\n",
    "start = timer()\n",
    "classifier = SVC(**params).fit(x_train, y_train)\n",
    "train_patched = timer() - start\n",
    "f\"Intel® extension for Scikit-learn time: {train_patched:.2f} s\""
   ]
  },
  {
   "cell_type": "markdown",
   "id": "27e84d5d-681b-41ac-a4f8-6ef9166e1768",
   "metadata": {},
   "source": [
    "Check model performance"
   ]
  },
  {
   "cell_type": "code",
   "execution_count": null,
   "id": "0c85b111-8f3c-415c-995c-3b249a381a40",
   "metadata": {},
   "outputs": [],
   "source": [
    "predicted = classifier.predict(x_test)\n",
    "report = metrics.classification_report(y_test, predicted)\n",
    "print(f\"Classification report for Intel® extension for Scikit-learn SVC:\\n{report}\\n\")"
   ]
  },
  {
   "cell_type": "markdown",
   "id": "f9543218-4741-4074-9d80-19cd54c7323f",
   "metadata": {},
   "source": [
    "##### Remove Intel optimizations and train with stock Scikit-learn"
   ]
  },
  {
   "cell_type": "code",
   "execution_count": null,
   "id": "43fb5f62-0ce0-4504-a5d4-a0a788a1fed1",
   "metadata": {},
   "outputs": [],
   "source": [
    "from sklearnex import unpatch_sklearn\n",
    "unpatch_sklearn()"
   ]
  },
  {
   "cell_type": "markdown",
   "id": "57c63a44-544e-4063-9b1a-5f78ea7a2e7d",
   "metadata": {},
   "source": [
    "Note : The stock Scikit-learn model fitting below **could take a while** to complete. (~ 10 mins)"
   ]
  },
  {
   "cell_type": "code",
   "execution_count": null,
   "id": "80bc5a6c-12c0-4fdc-acc4-f1f812fffec8",
   "metadata": {},
   "outputs": [],
   "source": [
    "from sklearn.svm import SVC\n",
    "\n",
    "start = timer()\n",
    "classifier = SVC(**params).fit(x_train, y_train)\n",
    "train_unpatched = timer() - start\n",
    "f\"Original Scikit-learn time: {train_unpatched:.2f} s\""
   ]
  },
  {
   "cell_type": "code",
   "execution_count": null,
   "id": "8b4395b0-c2e9-4130-b9c6-1a5412f3908e",
   "metadata": {},
   "outputs": [],
   "source": [
    "predicted = classifier.predict(x_test)\n",
    "report = metrics.classification_report(y_test, predicted)\n",
    "print(f\"Classification report for original Scikit-learn SVC:\\n{report}\\n\")"
   ]
  },
  {
   "cell_type": "code",
   "execution_count": null,
   "id": "2187b267-d05f-4ef5-a43d-3bf55ec8917b",
   "metadata": {},
   "outputs": [],
   "source": [
    "import matplotlib.pyplot as plt\n",
    "fig = plt.figure(figsize = (8, 5))\n",
    "perf_gain = round(train_unpatched / train_patched)\n",
    "bar_titles = ['Stock Scikit-learn*', 'Intel Extension for Scikit-learn*']\n",
    "bar_values = [train_unpatched, train_patched]\n",
    "plt.bar(bar_titles, bar_values, color ='#0071c5', width = 0.4)\n",
    "plt.ylabel(\"Time for model.fit() in seconds (Lower is better)\")\n",
    "plt.title(\"SVC Model fit performance with Intel Extension for Scikit-learn* - ~ {}X perf gain\".format(perf_gain))\n",
    "plt.show()"
   ]
  },
  {
   "cell_type": "markdown",
   "id": "572823d1-2a90-462a-af48-3938a25ddf5d",
   "metadata": {},
   "source": [
    "### Legal Notices and Disclaimers"
   ]
  },
  {
   "cell_type": "markdown",
   "id": "34aeed0a-a642-4011-a9a0-dd90696c181b",
   "metadata": {},
   "source": [
    "Intel technologies’ features and benefits depend on system configuration and may require enabled hardware, software or service activation. Performance varies depending on system configuration. No computer system can be absolutely secure. Check with your system manufacturer or retailer or learn more at www.intel.com.<br>\n",
    "Cost reduction scenarios described including recommendations are intended as examples of how a given Intel-based product, in the specified circumstances and configurations, may affect future costs and provide cost savings. Circumstances will vary. Intel does not guarantee any costs or cost reduction.<br>\n",
    "This document contains information on products, services and/or processes in development. All information provided here is subject to change without notice. Contact your Intel representative to obtain the latest forecast, schedule, specifications and roadmaps. <br>\n",
    "Any forecasts of goods and services needed for Intel’s operations are provided for discussion purposes only. Intel will have no liability to make any purchase in connection with forecasts published in this document.<br>\n",
    "Intel technologies may require enabled hardware, software or service activation.<br>\n",
    "Software and workloads used in performance tests may have been optimized for performance only on Intel microprocessors.  <br>\n",
    "Performance tests, are measured using specific computer systems, components, software, operations and functions.  Any change to any of those factors may cause the results to vary.  You should consult other information and performance tests to assist you in fully evaluating your contemplated purchases, including the performance of that product when combined with other products.   For more complete information visit www.intel.com/benchmarks.<br>\n",
    "\n",
    "|* Other names and brands may be claimed as the property of others. <br>\n",
    "\n",
    "Your costs and results may vary. <br>\n",
    "© Intel Corporation.  Intel, the Intel logo, and other Intel marks are trademarks of Intel Corporation or its subsidiaries.  Other names and brands may be claimed as the property of others.<br>\n",
    "Copyright 2022 Intel Corporation. \n"
   ]
  },
  {
   "cell_type": "code",
   "execution_count": null,
   "id": "37517c88-ec2c-478b-af70-fd1873199b9e",
   "metadata": {},
   "outputs": [],
   "source": []
  }
 ],
 "metadata": {
  "kernelspec": {
   "display_name": "Python 3 (Intel® oneAPI 2023.0)",
   "language": "python",
   "name": "c009-intel_distribution_of_python_3_oneapi-beta05-python"
  },
  "language_info": {
   "codemirror_mode": {
    "name": "ipython",
    "version": 3
   },
   "file_extension": ".py",
   "mimetype": "text/x-python",
   "name": "python",
   "nbconvert_exporter": "python",
   "pygments_lexer": "ipython3",
   "version": "3.9.15"
  }
 },
 "nbformat": 4,
 "nbformat_minor": 5
}
